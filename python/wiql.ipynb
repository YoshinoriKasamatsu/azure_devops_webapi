{
 "cells": [
  {
   "cell_type": "code",
   "execution_count": null,
   "metadata": {},
   "outputs": [],
   "source": [
    "import requests\n",
    "import base64\n",
    "import settings.webapi_paths as webapi_paths\n",
    "import settings.config as config\n",
    "import json\n"
   ]
  },
  {
   "cell_type": "code",
   "execution_count": null,
   "metadata": {},
   "outputs": [],
   "source": [
    "ids=[]"
   ]
  },
  {
   "cell_type": "code",
   "execution_count": null,
   "metadata": {},
   "outputs": [],
   "source": [
    "# 条件を指定してワークアイテムを取得する\n",
    "contents = {\n",
    "  \"query\": \"Select [System.Id], [System.Title], [System.State] \" \\\n",
    "            \"From WorkItems \" \\\n",
    "            \"Where [System.WorkItemType] = 'Task' AND [State] <> 'Closed' AND [State] <> 'Removed' \" \\\n",
    "            \"order by [Microsoft.VSTS.Common.Priority] asc, [System.CreatedDate] desc\"\n",
    "}"
   ]
  },
  {
   "cell_type": "code",
   "execution_count": null,
   "metadata": {},
   "outputs": [],
   "source": [
    "response = requests.post(url=webapi_paths.work_items_wql_url, headers=config.headers, json=contents)\n",
    "items=json.loads(response.text)\n",
    "for item in items['workItems']:\n",
    "    ids.append(item['id'])\n",
    "    print(item)"
   ]
  },
  {
   "cell_type": "code",
   "execution_count": null,
   "metadata": {},
   "outputs": [],
   "source": [
    "# ワークアイテムの詳細を取得する\n",
    "ids=','.join(map(str, ids))\n",
    "work_items_url = webapi_paths.work_items_url % ids\n",
    "\n",
    "workItems_response = requests.get(work_items_url, headers=config.headers)\n",
    "workItems=json.loads(workItems_response.text)"
   ]
  },
  {
   "cell_type": "code",
   "execution_count": null,
   "metadata": {},
   "outputs": [],
   "source": [
    "for workItem in workItems['value']:\n",
    "    workItem_id = workItem['id']\n",
    "    print(str(workItem['id']) + '\\t' + str(workItem['rev']) + '\\t' + workItem['fields']['System.Title'] + '\\t' + workItem['fields']['System.State'])\n",
    "    # ワークアイテムの履歴を取得する\n",
    "\n",
    "    revisions_response = requests.get(webapi_paths.revisions_url % workItem_id, headers=config.headers)\n",
    "    revisions=json.loads(revisions_response.text)\n",
    "    for revision in revisions['value']:  \n",
    "      print(revision['rev'])\n",
    "      print(revision)\n",
    "    print()\n"
   ]
  }
 ],
 "metadata": {
  "kernelspec": {
   "display_name": "Python 3",
   "language": "python",
   "name": "python3"
  },
  "language_info": {
   "codemirror_mode": {
    "name": "ipython",
    "version": 3
   },
   "file_extension": ".py",
   "mimetype": "text/x-python",
   "name": "python",
   "nbconvert_exporter": "python",
   "pygments_lexer": "ipython3",
   "version": "3.11.3"
  },
  "orig_nbformat": 4
 },
 "nbformat": 4,
 "nbformat_minor": 2
}
