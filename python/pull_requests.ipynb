{
 "cells": [
  {
   "cell_type": "code",
   "execution_count": 1,
   "metadata": {},
   "outputs": [],
   "source": [
    "import requests\n",
    "import base64\n",
    "import json\n",
    "import settings.config as config\n",
    "import settings.webapi_paths as webapi_paths"
   ]
  },
  {
   "cell_type": "code",
   "execution_count": 2,
   "metadata": {},
   "outputs": [],
   "source": [
    "# Pull Requestの一覧を取得する\n",
    "response = requests.get(url=webapi_paths.pull_requests_url, headers=config.headers)\n",
    "items=json.loads(response.text)"
   ]
  },
  {
   "cell_type": "code",
   "execution_count": 3,
   "metadata": {},
   "outputs": [
    {
     "name": "stdout",
     "output_type": "stream",
     "text": [
      "11\tactive\tAdded temp.txt\tYoshinori Kasamatsu\t2023-05-04T15:44:25.3234836ZYoshinori Kasamatsu\n",
      "\t----- WOrk Items -----\n",
      "\t----- Threads -----\n",
      "\t38\t2023-05-04T16:03:41.987Z\n",
      "\t\tMicrosoft.VisualStudio.Services.TFS\tYoshinori Kasamatsu joined as a reviewer\n",
      "\n",
      "\t40\t2023-05-05T02:51:56.627Z\n",
      "\t\tYoshinori Kasamatsu\tbb コメント\n",
      "\t\tYoshinori Kasamatsu\tｂｂ－１\n",
      "\n",
      "\t41\t2023-05-05T03:04:00.423Z\n",
      "\t\tYoshinori Kasamatsu\tｃｃ コメント２\n",
      "\t\tYoshinori Kasamatsu\tｃｃ－２\n",
      "\n",
      "\n",
      "10\tcompleted\tAdded test.txt\tYoshinori Kasamatsu\t2023-03-27T14:40:38.0185135Z\t2023-05-04T15:53:20.3372211Z\n",
      "\t----- WOrk Items -----\n",
      "\t198\tTask\t７系Ansible作成 aa\n",
      "\t202\tBug\ttest\n",
      "\t----- Threads -----\n",
      "\t37\t2023-05-04T15:53:20.563Z\n",
      "\t\tYoshinori Kasamatsu\tYoshinori Kasamatsu updated the pull request status to Completed\n",
      "\n",
      "\t39\t2023-05-05T02:51:43.51Z\n",
      "\t\tYoshinori Kasamatsu\taa \n",
      "\n",
      "\n"
     ]
    }
   ],
   "source": [
    "for item in items['value']:\n",
    "    pullRequestId = item['pullRequestId']\n",
    "    print(str(item['pullRequestId']) + '\\t' + item['status'] + '\\t' + item['title'] + '\\t' + item['createdBy']['displayName'] + '\\t' + item['creationDate'] , end='')\n",
    "    if(item['status']=='completed'):\n",
    "        print('\\t' + item['closedDate'])\n",
    "\n",
    "    for reviewer in item['reviewers']:\n",
    "        print(reviewer['displayName'])\n",
    "\n",
    "    # Pull Requestの詳細を取得する\n",
    "    pull_request_detail_url=webapi_paths.pull_request_detail_url % pullRequestId\n",
    "    pullRequest_response = requests.get(url=pull_request_detail_url, headers=config.headers)\n",
    "\n",
    "    # Work Itemの詳細を取得する\n",
    "    pullRequestResult = json.loads(pullRequest_response.text)\n",
    "    # print(pullRequest_response.text)\n",
    "    print('\\t----- Work Items -----')\n",
    "    if 'workItemRefs' in pullRequestResult:\n",
    "        for workItem in pullRequestResult['workItemRefs']:\n",
    "            workItem_Response = requests.get(url=workItem['url'], headers=config.headers)\n",
    "            workItemResult = json.loads(workItem_Response.text)\n",
    "            \n",
    "            print('\\t' + str(workItem['id']) + '\\t' + workItemResult['fields']['System.WorkItemType']  + '\\t' + workItemResult['fields']['System.Title'])\n",
    "    # Pull Requestのスレッドを取得する\n",
    "    pull_request_threads_url=webapi_paths.pull_request_threads_url % pullRequestId\n",
    "    pullRequestThreads_response = requests.get(url=pull_request_threads_url, headers=config.headers)\n",
    "    pullRequestThreadsResult = json.loads(pullRequestThreads_response.text)\n",
    "    print('\\t----- Threads -----')\n",
    "    for thread in pullRequestThreadsResult['value']:\n",
    "        print('\\t' + str(thread['id']) + '\\t' + thread['publishedDate'])\n",
    "        for comment in thread['comments']:\n",
    "            print('\\t\\t' + comment['author']['displayName'] + '\\t' + str(comment['content']).replace('\\n', ' '))\n",
    "        print()\n",
    "    print()"
   ]
  }
 ],
 "metadata": {
  "kernelspec": {
   "display_name": "Python 3",
   "language": "python",
   "name": "python3"
  },
  "language_info": {
   "codemirror_mode": {
    "name": "ipython",
    "version": 3
   },
   "file_extension": ".py",
   "mimetype": "text/x-python",
   "name": "python",
   "nbconvert_exporter": "python",
   "pygments_lexer": "ipython3",
   "version": "3.11.3"
  },
  "orig_nbformat": 4
 },
 "nbformat": 4,
 "nbformat_minor": 2
}
